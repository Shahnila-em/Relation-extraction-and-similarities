{
  "nbformat": 4,
  "nbformat_minor": 0,
  "metadata": {
    "colab": {
      "name": "Untitled6.ipynb",
      "provenance": []
    },
    "kernelspec": {
      "name": "python3",
      "display_name": "Python 3"
    },
    "language_info": {
      "name": "python"
    }
  },
  "cells": [
    {
      "cell_type": "code",
      "metadata": {
        "id": "v1s8EUvcBNVE"
      },
      "source": [
        "import numpy as np \n",
        "import pandas as pd\n",
        "from tqdm import tqdm_notebook as tqdm\n",
        "from pyecharts import options as opts\n",
        "from pyecharts.charts import Graph\n",
        "import torch\n",
        "import torch.nn.functional as F\n",
        "from torch.utils.data import Dataset,TensorDataset,DataLoader\n",
        "from keras.preprocessing import sequence\n",
        "from transformers import BertTokenizer, BertForSequenceClassification\n",
        "\n",
        "import warnings\n",
        "warnings.simplefilter(action='ignore', category=FutureWarning)\n",
        "warnings.filterwarnings('ignore')"
      ],
      "execution_count": null,
      "outputs": []
    },
    {
      "cell_type": "code",
      "metadata": {
        "id": "SQeJKlJnBN83"
      },
      "source": [
        "\n",
        "# bulid data loader\n",
        "def Data_loader(x,y=None,bs=128,shuffle=False,numWorkers=0):\n",
        "    if y is not None:\n",
        "        data = TensorDataset(x,y)\n",
        "    else:\n",
        "        data = TensorDataset(x)\n",
        "    data_loader = DataLoader(dataset=data,batch_size=bs,shuffle=shuffle,num_workers=numWorkers)\n",
        "    return data_loader\n"
      ],
      "execution_count": null,
      "outputs": []
    },
    {
      "cell_type": "code",
      "metadata": {
        "id": "f823NmHaBN_c"
      },
      "source": [
        "# 3. What diseases are associated to COVID-19 (like complication)?\n",
        "d_d_df = relation_df.loc[((relation_df['start_entity']=='COVID-19')&(relation_df['end_entity_type']=='Disease'))|((relation_df['start_entity_type']=='Disease')&(relation_df['end_entity']=='COVID-19'))]\n",
        "value_counts_dic = dict(d_d_df['start_entity'].value_counts())\n",
        "end_entity_value_counts_dic = dict(d_d_df['end_entity'].value_counts())\n",
        "for key in end_entity_value_counts_dic:\n",
        "    if key in value_counts_dic:\n",
        "        value_counts_dic[key] += end_entity_value_counts_dic[key]\n",
        "    else:\n",
        "        value_counts_dic[key] = end_entity_value_counts_dic[key]\n",
        "most_relevant_disease = []\n",
        "for key in value_counts_dic:\n",
        "    if value_counts_dic[key] > 10:\n",
        "        most_relevant_disease.append(key)\n",
        "relation_df.loc[((relation_df['start_entity'].isin(most_relevant_disease))&(relation_df['end_entity']=='COVID-19'))|((relation_df['start_entity']=='COVID-19')&(relation_df['end_entity'].isin(most_relevant_disease)))]"
      ],
      "execution_count": null,
      "outputs": []
    },
    {
      "cell_type": "code",
      "metadata": {
        "id": "I9hyvbIrBOCS"
      },
      "source": [
        ""
      ],
      "execution_count": null,
      "outputs": []
    },
    {
      "cell_type": "code",
      "metadata": {
        "id": "h0weVZUGBOE5"
      },
      "source": [
        ""
      ],
      "execution_count": null,
      "outputs": []
    },
    {
      "cell_type": "code",
      "metadata": {
        "id": "RYhSHDWEBOIb"
      },
      "source": [
        ""
      ],
      "execution_count": null,
      "outputs": []
    },
    {
      "cell_type": "code",
      "metadata": {
        "id": "Rdmfq4tSBOLO"
      },
      "source": [
        ""
      ],
      "execution_count": null,
      "outputs": []
    }
  ]
}